{
 "cells": [
  {
   "cell_type": "code",
   "execution_count": 24,
   "metadata": {},
   "outputs": [],
   "source": [
    "# Dependencies\n",
    "import pandas as pd\n",
    "import geopandas as gpd\n",
    "import matplotlib.pyplot as plt\n",
    "import seaborn as sns\n",
    "import numpy as np\n",
    "from scipy import stats"
   ]
  },
  {
   "cell_type": "code",
   "execution_count": 25,
   "metadata": {},
   "outputs": [],
   "source": [
    "# Load data\n",
    "outbreak_data = pd.read_csv('/Users/admin/Documents/GitHub/Covidvariant/cleaned_covid_data.csv')"
   ]
  },
  {
   "cell_type": "code",
   "execution_count": 26,
   "metadata": {},
   "outputs": [
    {
     "data": {
      "text/html": [
       "<div>\n",
       "<style scoped>\n",
       "    .dataframe tbody tr th:only-of-type {\n",
       "        vertical-align: middle;\n",
       "    }\n",
       "\n",
       "    .dataframe tbody tr th {\n",
       "        vertical-align: top;\n",
       "    }\n",
       "\n",
       "    .dataframe thead th {\n",
       "        text-align: right;\n",
       "    }\n",
       "</style>\n",
       "<table border=\"1\" class=\"dataframe\">\n",
       "  <thead>\n",
       "    <tr style=\"text-align: right;\">\n",
       "      <th></th>\n",
       "      <th>Country</th>\n",
       "      <th>first_seq</th>\n",
       "      <th>num_seqs</th>\n",
       "      <th>last_seq</th>\n",
       "      <th>variant</th>\n",
       "      <th>censure_date</th>\n",
       "      <th>duration</th>\n",
       "      <th>censored</th>\n",
       "      <th>mortality_rate</th>\n",
       "      <th>total_cases</th>\n",
       "      <th>total_deaths</th>\n",
       "      <th>growth_rate</th>\n",
       "    </tr>\n",
       "  </thead>\n",
       "  <tbody>\n",
       "    <tr>\n",
       "      <th>0</th>\n",
       "      <td>China</td>\n",
       "      <td>2019-10-22</td>\n",
       "      <td>3</td>\n",
       "      <td>2020-06-03</td>\n",
       "      <td>S.Q677</td>\n",
       "      <td>2020-06-21</td>\n",
       "      <td>225</td>\n",
       "      <td>True</td>\n",
       "      <td>0.052983</td>\n",
       "      <td>18259.460120</td>\n",
       "      <td>967.435583</td>\n",
       "      <td>16447.430710</td>\n",
       "    </tr>\n",
       "    <tr>\n",
       "      <th>1</th>\n",
       "      <td>USA</td>\n",
       "      <td>2020-03-03</td>\n",
       "      <td>26022</td>\n",
       "      <td>2021-11-19</td>\n",
       "      <td>S.Q677</td>\n",
       "      <td>2020-11-01</td>\n",
       "      <td>626</td>\n",
       "      <td>False</td>\n",
       "      <td>0.016111</td>\n",
       "      <td>256577.596200</td>\n",
       "      <td>4133.841031</td>\n",
       "      <td>84748.745880</td>\n",
       "    </tr>\n",
       "    <tr>\n",
       "      <th>2</th>\n",
       "      <td>Brazil</td>\n",
       "      <td>2020-03-09</td>\n",
       "      <td>1553</td>\n",
       "      <td>2021-11-12</td>\n",
       "      <td>S.Q677</td>\n",
       "      <td>2020-11-07</td>\n",
       "      <td>613</td>\n",
       "      <td>False</td>\n",
       "      <td>0.027846</td>\n",
       "      <td>101550.140500</td>\n",
       "      <td>2827.764288</td>\n",
       "      <td>42356.907430</td>\n",
       "    </tr>\n",
       "    <tr>\n",
       "      <th>3</th>\n",
       "      <td>Australia</td>\n",
       "      <td>2020-03-20</td>\n",
       "      <td>88</td>\n",
       "      <td>2021-11-14</td>\n",
       "      <td>S.Q677</td>\n",
       "      <td>2020-11-18</td>\n",
       "      <td>604</td>\n",
       "      <td>False</td>\n",
       "      <td>0.009905</td>\n",
       "      <td>1402.239579</td>\n",
       "      <td>13.889752</td>\n",
       "      <td>1227.122500</td>\n",
       "    </tr>\n",
       "    <tr>\n",
       "      <th>4</th>\n",
       "      <td>Sweden</td>\n",
       "      <td>2020-03-20</td>\n",
       "      <td>810</td>\n",
       "      <td>2021-11-19</td>\n",
       "      <td>S.Q677</td>\n",
       "      <td>2020-11-18</td>\n",
       "      <td>609</td>\n",
       "      <td>False</td>\n",
       "      <td>0.012711</td>\n",
       "      <td>1659.148728</td>\n",
       "      <td>21.089425</td>\n",
       "      <td>2521.042925</td>\n",
       "    </tr>\n",
       "  </tbody>\n",
       "</table>\n",
       "</div>"
      ],
      "text/plain": [
       "     Country   first_seq  num_seqs    last_seq variant censure_date  duration  \\\n",
       "0      China  2019-10-22         3  2020-06-03  S.Q677   2020-06-21       225   \n",
       "1        USA  2020-03-03     26022  2021-11-19  S.Q677   2020-11-01       626   \n",
       "2     Brazil  2020-03-09      1553  2021-11-12  S.Q677   2020-11-07       613   \n",
       "3  Australia  2020-03-20        88  2021-11-14  S.Q677   2020-11-18       604   \n",
       "4     Sweden  2020-03-20       810  2021-11-19  S.Q677   2020-11-18       609   \n",
       "\n",
       "   censored  mortality_rate    total_cases  total_deaths   growth_rate  \n",
       "0      True        0.052983   18259.460120    967.435583  16447.430710  \n",
       "1     False        0.016111  256577.596200   4133.841031  84748.745880  \n",
       "2     False        0.027846  101550.140500   2827.764288  42356.907430  \n",
       "3     False        0.009905    1402.239579     13.889752   1227.122500  \n",
       "4     False        0.012711    1659.148728     21.089425   2521.042925  "
      ]
     },
     "execution_count": 26,
     "metadata": {},
     "output_type": "execute_result"
    }
   ],
   "source": [
    "# Display dataset\n",
    "outbreak_data.head()"
   ]
  },
  {
   "cell_type": "code",
   "execution_count": 27,
   "metadata": {},
   "outputs": [
    {
     "name": "stderr",
     "output_type": "stream",
     "text": [
      "/var/folders/64/v3w6ln215tzd14scrycwkjl40000gn/T/ipykernel_66256/722100375.py:2: FutureWarning: The geopandas.dataset module is deprecated and will be removed in GeoPandas 1.0. You can get the original 'naturalearth_lowres' data from https://www.naturalearthdata.com/downloads/110m-cultural-vectors/.\n",
      "  world_map = gpd.read_file(gpd.datasets.get_path('naturalearth_lowres'))\n"
     ]
    }
   ],
   "source": [
    "# Is there a geographical pattern in outbreak duration\n",
    "world_map = gpd.read_file(gpd.datasets.get_path('naturalearth_lowres'))\n",
    "outbreak_map = world_map.merge(outbreak_data, how=\"left\", left_on=\"name\", right_on=\"Country\")"
   ]
  },
  {
   "cell_type": "code",
   "execution_count": 28,
   "metadata": {},
   "outputs": [],
   "source": [
    "# Does the number of variants in a country impact the length of an outbreak?\n"
   ]
  }
 ],
 "metadata": {
  "kernelspec": {
   "display_name": "base",
   "language": "python",
   "name": "python3"
  },
  "language_info": {
   "codemirror_mode": {
    "name": "ipython",
    "version": 3
   },
   "file_extension": ".py",
   "mimetype": "text/x-python",
   "name": "python",
   "nbconvert_exporter": "python",
   "pygments_lexer": "ipython3",
   "version": "3.12.4"
  }
 },
 "nbformat": 4,
 "nbformat_minor": 2
}
