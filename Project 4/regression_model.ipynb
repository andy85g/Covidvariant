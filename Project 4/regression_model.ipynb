{
 "cells": [
  {
   "cell_type": "code",
   "execution_count": 1,
   "metadata": {},
   "outputs": [
    {
     "name": "stdout",
     "output_type": "stream",
     "text": [
      "✅ Linear Regression - RMSE: 2148.06, R² Score: 0.92\n",
      "✅ Model saved successfully as 'regression_model.pkl'\n"
     ]
    },
    {
     "name": "stderr",
     "output_type": "stream",
     "text": [
      "/opt/anaconda3/lib/python3.12/site-packages/sklearn/metrics/_regression.py:483: FutureWarning: 'squared' is deprecated in version 1.4 and will be removed in 1.6. To calculate the root mean squared error, use the function'root_mean_squared_error'.\n",
      "  warnings.warn(\n"
     ]
    }
   ],
   "source": [
    "import numpy as np\n",
    "import pandas as pd\n",
    "import joblib\n",
    "from sklearn.linear_model import LinearRegression\n",
    "from sklearn.metrics import mean_squared_error, r2_score\n",
    "from sklearn.model_selection import train_test_split\n",
    "\n",
    "# Load dataset (Replace 'your_dataset.csv' with the actual dataset file)\n",
    "df = pd.read_csv(\"cleaned_covid_data.csv\")\n",
    "\n",
    "# Define expected features\n",
    "expected_features = ['growth_rate', 'mortality_rate', 'total_cases']\n",
    "\n",
    "# Ensure dataset has the correct columns\n",
    "for feature in expected_features:\n",
    "    if feature not in df.columns:\n",
    "        raise ValueError(f\"❌ Missing column: {feature} in dataset\")\n",
    "\n",
    "# Extract features (X) and target variable (y)\n",
    "X = df[expected_features]\n",
    "y = df[\"total_deaths\"]  # Adjust target variable if needed\n",
    "\n",
    "# Split dataset into training and test sets\n",
    "X_train, X_test, y_train, y_test = train_test_split(X, y, test_size=0.2, random_state=42)\n",
    "\n",
    "# Train Linear Regression Model\n",
    "lin_reg = LinearRegression()\n",
    "lin_reg.fit(X_train, y_train)\n",
    "\n",
    "# Predict on test set\n",
    "y_pred_lin = lin_reg.predict(X_test)\n",
    "\n",
    "# Evaluate performance\n",
    "rmse_lin = mean_squared_error(y_test, y_pred_lin, squared=False)\n",
    "r2_lin = r2_score(y_test, y_pred_lin)\n",
    "\n",
    "print(f\"✅ Linear Regression - RMSE: {rmse_lin:.2f}, R² Score: {r2_lin:.2f}\")\n",
    "\n",
    "# Save the trained Linear Regression Model correctly\n",
    "joblib.dump(lin_reg, \"regression_model.pkl\")\n",
    "\n",
    "print(\"✅ Model saved successfully as 'regression_model.pkl'\")"
   ]
  }
 ],
 "metadata": {
  "kernelspec": {
   "display_name": "base",
   "language": "python",
   "name": "python3"
  },
  "language_info": {
   "codemirror_mode": {
    "name": "ipython",
    "version": 3
   },
   "file_extension": ".py",
   "mimetype": "text/x-python",
   "name": "python",
   "nbconvert_exporter": "python",
   "pygments_lexer": "ipython3",
   "version": "3.12.2"
  }
 },
 "nbformat": 4,
 "nbformat_minor": 2
}
